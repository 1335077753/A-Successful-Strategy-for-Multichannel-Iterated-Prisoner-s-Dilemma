{
 "cells": [
  {
   "cell_type": "code",
   "execution_count": null,
   "outputs": [],
   "source": [
    "import numpy as np\n",
    "import matplotlib.pyplot as plt\n",
    "import random\n",
    "p = np.zeros(4)\n",
    "\n",
    "sx = np.array([3,0,5,1])\n",
    "sy = np.array([3,5,0,1])\n",
    "R = 3\n",
    "T = 5\n",
    "S = 0\n",
    "P = 1\n",
    "x_payoff = []\n",
    "y_payoff = []\n",
    "t = 0\n",
    "gamma = 1.6\n",
    "fi = 0.09"
   ],
   "metadata": {
    "collapsed": false,
    "pycharm": {
     "name": "#%%\n"
    }
   },
   "id": "62eb8a5b1fc223b1"
  },
  {
   "cell_type": "code",
   "execution_count": 44,
   "id": "c4f2bc7c",
   "metadata": {
    "pycharm": {
     "name": "#%%\n"
    }
   },
   "outputs": [],
   "source": [
    "p[0] = 1 + (fi * (1 - gamma) * (R-P))\n",
    "p[1] = 1 + fi * ((S-P) - gamma*(T-P))\n",
    "p[2] = fi * ((T-P) - gamma*(S-P))\n",
    "p[3] = 0"
   ]
  },
  {
   "cell_type": "code",
   "execution_count": null,
   "id": "a965bb2a",
   "metadata": {
    "pycharm": {
     "name": "#%%\n",
     "is_executing": true
    }
   },
   "outputs": [],
   "source": [
    "p"
   ]
  },
  {
   "cell_type": "code",
   "execution_count": null,
   "outputs": [],
   "source": [
    "p1 = [[p[0],p[0]],[p[0],p[1]],[p[1],p[0]],[p[1],p[1]],\n",
    "      [p[0],p[2]],[p[0],p[3]],[p[1],p[2]],[p[1],p[3]],\n",
    "      [p[2],p[0]],[p[2],p[1]],[p[3],p[0]],[p[3],p[1]],\n",
    "      [p[2],p[2]],[p[2],p[3]],[p[3],p[2]],[p[3],p[3]]]\n",
    "p1"
   ],
   "metadata": {
    "collapsed": false,
    "pycharm": {
     "name": "#%%\n",
     "is_executing": true
    }
   },
   "id": "f5bb75413febe373"
  },
  {
   "cell_type": "code",
   "execution_count": 47,
   "id": "8d96a08b",
   "metadata": {
    "pycharm": {
     "name": "#%%\n"
    }
   },
   "outputs": [],
   "source": [
    "h = sorted(np.random.uniform(0,1,3))\n",
    "v0 = np.zeros(4)\n",
    "v0[0] = h[0]\n",
    "v0[1] = h[1]-h[0]\n",
    "v0[2] = h[2]-h[1]\n",
    "v0[3] = 1-h[2]"
   ]
  },
  {
   "cell_type": "code",
   "execution_count": 48,
   "id": "0ef3be63",
   "metadata": {
    "pycharm": {
     "name": "#%%\n"
    }
   },
   "outputs": [],
   "source": [
    "while t < 5000:\n",
    "    q = np.random.random((4))\n",
    "    m = np.zeros((4,4))\n",
    "    \n",
    "    m[0][0] = p[0] * q[0]\n",
    "    m[0][1] = p[0] * (1-q[0])\n",
    "    m[0][2] = (1-p[0]) * q[0]\n",
    "    m[0][3] = (1-p[0]) * (1-q[0])\n",
    "    \n",
    "    m[1][0] = p[1] * q[2]\n",
    "    m[1][1] = p[1] * (1-q[2]) \n",
    "    m[1][2] = (1-p[1]) * q[2]\n",
    "    m[1][3] = (1-p[1]) * (1-q[2])\n",
    "\n",
    "    m[2][0] = p[2] * q[1]\n",
    "    m[2][1] = p[2] * (1-q[1])\n",
    "    m[2][2] = (1-p[2]) * q[1]\n",
    "    m[2][3] = (1-p[2]) * (1-q[1])\n",
    "\n",
    "    m[3][0] = p[3] * q[3]\n",
    "    m[3][1] = p[3] * (1-q[3])\n",
    "    m[3][2] = (1-p[3]) * q[3]\n",
    "    m[3][3] = (1-p[3]) * (1-q[3])\n",
    "    \n",
    "    n = 0\n",
    "    while n < 100:\n",
    "        v0 = np.dot(v0, m)\n",
    "        n = n + 1\n",
    "    x_onestagepayoff = np.dot(v0, sx)\n",
    "    y_onestagepayoff = np.dot(v0, sy)\n",
    "    x_payoff.append(x_onestagepayoff)\n",
    "    y_payoff.append(y_onestagepayoff)\n",
    "    t = t + 1"
   ]
  },
  {
   "cell_type": "code",
   "execution_count": null,
   "id": "90f5c38a",
   "metadata": {
    "pycharm": {
     "name": "#%%\n",
     "is_executing": true
    }
   },
   "outputs": [],
   "source": [
    "v0"
   ]
  },
  {
   "cell_type": "code",
   "execution_count": null,
   "outputs": [],
   "source": [
    "n = m.shape[0]\n",
    "A = m.T - np.eye(n)\n",
    "A[-1] = np.ones(n)\n",
    "b = np.zeros(n)\n",
    "b[-1] = 1\n",
    "steady_state_dist = np.linalg.solve(A, b)\n",
    "steady_state_dist"
   ],
   "metadata": {
    "collapsed": false,
    "pycharm": {
     "name": "#%%\n",
     "is_executing": true
    }
   },
   "id": "9b8a98aaf7d7ff1e"
  },
  {
   "cell_type": "code",
   "execution_count": null,
   "outputs": [],
   "source": [
    "M = np.zeros((4,4))\n",
    "M[0][0] = p[0] * q[0] - 1\n",
    "M[0][1] = -1 + p[0]\n",
    "M[0][2] = -1 + q[0]\n",
    "M[0][3] = 0\n",
    "\n",
    "M[1][0] = p[1] * q[2]\n",
    "M[1][1] = -1 + p[1]\n",
    "M[1][2] = q[2]\n",
    "M[1][3] = 0\n",
    "\n",
    "M[2][0] = p[2] * q[1]\n",
    "M[2][1] = p[2]\n",
    "M[2][2] = -1 + q[1]\n",
    "M[2][3] = 0\n",
    "\n",
    "M[3][0] = p[3] * q[3]\n",
    "M[3][1] = p[3]\n",
    "M[3][2] = q[3]\n",
    "M[3][3] = 0\n",
    "\n",
    "print(M)\n",
    "col1 = np.array([[1], [0], [0], [0]])\n",
    "col2 = np.array([[0], [1], [0], [0]])\n",
    "col3 = np.array([[0], [0], [1], [0]])\n",
    "col4 = np.array([[0], [0], [0], [1]])\n",
    "\n",
    "M1 = M.copy()\n",
    "M1[:, -1] = col1.flatten()\n",
    "print(M1)\n",
    "M2 = M.copy()\n",
    "M2[:, -1] = col2.flatten()\n",
    "M3 = M.copy()\n",
    "M3[:, -1] = col3.flatten()\n",
    "M4 = M.copy()\n",
    "M4[:, -1] = col4.flatten()\n",
    "\n",
    "MD = m.copy()\n",
    "MD[:, -1] = np.ones(4)\n",
    "print(MD)\n",
    "\n",
    "v1 = np.linalg.det(M1) / np.linalg.det(MD)\n",
    "v2 = np.linalg.det(M2) / np.linalg.det(MD)\n",
    "v3 = np.linalg.det(M3) / np.linalg.det(MD)\n",
    "v4 = np.linalg.det(M4) / np.linalg.det(MD)\n",
    "\n",
    "sum_v = v1+v2+v3+v4\n",
    "v1/sum_v,v2/sum_v,v3/sum_v,v4/sum_v"
   ],
   "metadata": {
    "collapsed": false,
    "pycharm": {
     "name": "#%%\n",
     "is_executing": true
    }
   },
   "id": "d1484849fba06b89"
  },
  {
   "cell_type": "code",
   "execution_count": null,
   "id": "fc5b0846",
   "metadata": {
    "pycharm": {
     "name": "#%%\n",
     "is_executing": true
    }
   },
   "outputs": [],
   "source": [
    "plt.scatter(x_payoff, y_payoff)"
   ]
  }
 ],
 "metadata": {
  "kernelspec": {
   "display_name": "Python 3 (ipykernel)",
   "language": "python",
   "name": "python3"
  },
  "language_info": {
   "codemirror_mode": {
    "name": "ipython",
    "version": 3
   },
   "file_extension": ".py",
   "mimetype": "text/x-python",
   "name": "python",
   "nbconvert_exporter": "python",
   "pygments_lexer": "ipython3",
   "version": "3.11.3"
  }
 },
 "nbformat": 4,
 "nbformat_minor": 5
}
