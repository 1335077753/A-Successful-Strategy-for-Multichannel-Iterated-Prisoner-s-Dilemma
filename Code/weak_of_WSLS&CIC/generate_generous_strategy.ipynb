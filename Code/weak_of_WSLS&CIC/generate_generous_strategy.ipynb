{
 "cells": [
  {
   "cell_type": "code",
   "execution_count": 1,
   "id": "78e7a23a",
   "metadata": {
    "pycharm": {
     "name": "#%%\n"
    }
   },
   "outputs": [],
   "source": [
    "import numpy as np\n",
    "import matplotlib.pyplot as plt\n",
    "import random\n",
    "p = np.zeros(4)\n",
    "\n",
    "sx = np.array([3,0,5,1])\n",
    "sy = np.array([3,5,0,1])\n",
    "R = 3\n",
    "T = 5\n",
    "S = 0\n",
    "P = 1\n",
    "x_payoff = []\n",
    "y_payoff = []\n",
    "t = 0\n",
    "gamma = 2\n",
    "fi = 0.09"
   ]
  },
  {
   "cell_type": "code",
   "execution_count": 2,
   "id": "c4b2576b",
   "metadata": {
    "pycharm": {
     "name": "#%%\n"
    }
   },
   "outputs": [],
   "source": [
    "p[0] = 1\n",
    "p[1] = 1 + fi * ((S-R) - gamma*(T-R))\n",
    "p[2] = fi * ((T-R) - gamma*(S-R))\n",
    "p[3] = fi * ((P-R) - gamma*(P-R))"
   ]
  },
  {
   "cell_type": "code",
   "execution_count": null,
   "id": "791778db",
   "metadata": {
    "pycharm": {
     "name": "#%%\n",
     "is_executing": true
    }
   },
   "outputs": [],
   "source": [
    "p"
   ]
  },
  {
   "cell_type": "code",
   "execution_count": 4,
   "id": "de1f07f7",
   "metadata": {
    "pycharm": {
     "name": "#%%\n"
    }
   },
   "outputs": [],
   "source": [
    "h = sorted(np.random.uniform(0,1,3))\n",
    "v0 = np.zeros(4)\n",
    "v0[0] = h[0]\n",
    "v0[1] = h[1]-h[0]\n",
    "v0[2] = h[2]-h[1]\n",
    "v0[3] = 1-h[2]"
   ]
  },
  {
   "cell_type": "code",
   "execution_count": 5,
   "id": "1626fda4",
   "metadata": {
    "pycharm": {
     "name": "#%%\n"
    }
   },
   "outputs": [],
   "source": [
    "while t < 5000:\n",
    "    q = np.random.random((4))\n",
    "    m = np.zeros((4,4))\n",
    "    \n",
    "    m[0][0] = p[0] * q[0]\n",
    "    m[0][1] = p[0] * (1-q[0])\n",
    "    m[0][2] = (1-p[0]) * q[0]\n",
    "    m[0][3] = (1-p[0]) * (1-q[0])\n",
    "    \n",
    "    m[1][0] = p[1] * q[2]\n",
    "    m[1][1] = p[1] * (1-q[2]) \n",
    "    m[1][2] = (1-p[1]) * q[2]\n",
    "    m[1][3] = (1-p[1]) * (1-q[2])\n",
    "\n",
    "    m[2][0] = p[2] * q[1]\n",
    "    m[2][1] = p[2] * (1-q[1])\n",
    "    m[2][2] = (1-p[2]) * q[1]\n",
    "    m[2][3] = (1-p[2]) * (1-q[1])\n",
    "\n",
    "    m[3][0] = p[3] * q[3]\n",
    "    m[3][1] = p[3] * (1-q[3])\n",
    "    m[3][2] = (1-p[3]) * q[3]\n",
    "    m[3][3] = (1-p[3]) * (1-q[3])\n",
    "    \n",
    "    n = 0\n",
    "    while n < 100:\n",
    "        v0 = np.dot(v0, m)\n",
    "        n = n + 1\n",
    "    x_onestagepayoff = np.dot(v0, sx)\n",
    "    y_onestagepayoff = np.dot(v0, sy)\n",
    "    x_payoff.append(x_onestagepayoff)\n",
    "    y_payoff.append(y_onestagepayoff)\n",
    "    t = t + 1"
   ]
  },
  {
   "cell_type": "code",
   "execution_count": null,
   "id": "3d1d93ab",
   "metadata": {
    "pycharm": {
     "name": "#%%\n",
     "is_executing": true
    }
   },
   "outputs": [],
   "source": [
    "v0"
   ]
  },
  {
   "cell_type": "code",
   "execution_count": null,
   "id": "bcbc80cd",
   "metadata": {
    "pycharm": {
     "name": "#%%\n",
     "is_executing": true
    }
   },
   "outputs": [],
   "source": [
    "plt.scatter(x_payoff, y_payoff)"
   ]
  }
 ],
 "metadata": {
  "kernelspec": {
   "display_name": "Python 3 (ipykernel)",
   "language": "python",
   "name": "python3"
  },
  "language_info": {
   "codemirror_mode": {
    "name": "ipython",
    "version": 3
   },
   "file_extension": ".py",
   "mimetype": "text/x-python",
   "name": "python",
   "nbconvert_exporter": "python",
   "pygments_lexer": "ipython3",
   "version": "3.11.3"
  }
 },
 "nbformat": 4,
 "nbformat_minor": 5
}